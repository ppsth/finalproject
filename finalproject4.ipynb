{
 "cells": [
  {
   "cell_type": "code",
   "execution_count": 116,
   "id": "149e3385",
   "metadata": {},
   "outputs": [],
   "source": [
    "from Bio.SeqIO.QualityIO import FastqGeneralIterator\n",
    "from Bio import SeqIO\n",
    "import pandas as pd\n",
    "import numpy as np"
   ]
  },
  {
   "cell_type": "code",
   "execution_count": 117,
   "id": "96bbfb50",
   "metadata": {},
   "outputs": [
    {
     "data": {
      "text/plain": [
       "0        TAGGAAGGCTTTGCATATT\n",
       "1        TACTCCCTACAATCCATCT\n",
       "2        ACAATCCATCTGGTCCCAA\n",
       "3        ATGATACTGTCATCTTCTT\n",
       "4        ACAGACGCCTCAGTCTCTG\n",
       "                ...         \n",
       "16320    CGTTTTTGCCCCCGATAAG\n",
       "16321    CCGTAGCGGCGTAACGCGG\n",
       "16322    GAGTCTTGATCTGCTCCCA\n",
       "16323    GCGAGGGTGTCCTCCCATG\n",
       "16324    AGTCCGGTTCTGCGGATGT\n",
       "Length: 16325, dtype: object"
      ]
     },
     "execution_count": 117,
     "metadata": {},
     "output_type": "execute_result"
    }
   ],
   "source": [
    "#读入文件（这个文件我暂时还没用上）\n",
    "sequencesrna = []\n",
    "for record in SeqIO.parse('sgRNA_reference.fa','fasta'):\n",
    "    sequencesrna.append(str(record.seq))\n",
    "pd.Series(sequencesrna)"
   ]
  },
  {
   "cell_type": "code",
   "execution_count": 118,
   "id": "7e59d943",
   "metadata": {},
   "outputs": [],
   "source": [
    "#读入t 0时刻文件\n",
    "sequences0 = []\n",
    "for title, seq, qual in FastqGeneralIterator('t0.fastq'):\n",
    "    #数据清理\n",
    "    sequences0.append(seq[21:40])"
   ]
  },
  {
   "cell_type": "code",
   "execution_count": 119,
   "id": "6f0d2b03",
   "metadata": {},
   "outputs": [],
   "source": [
    "#计算t 0时刻频数 \n",
    "counts0=pd.Series(sequences0).value_counts()\n",
    "counts0_sum=pd.Series(sequences0).value_counts().sum()"
   ]
  },
  {
   "cell_type": "code",
   "execution_count": 120,
   "id": "476100d7",
   "metadata": {},
   "outputs": [],
   "source": [
    "#读入t 10时刻文件\n",
    "sequences10 = []\n",
    "for title, seq, qual in FastqGeneralIterator('t10.fastq'):\n",
    "    sequences10.append(seq[21:40])"
   ]
  },
  {
   "cell_type": "code",
   "execution_count": 121,
   "id": "e426906a",
   "metadata": {},
   "outputs": [],
   "source": [
    "#计算t 10时刻频数\n",
    "counts10=pd.Series(sequences10).value_counts()\n",
    "counts10_sum=pd.Series(sequences10).value_counts().sum()"
   ]
  },
  {
   "cell_type": "code",
   "execution_count": 122,
   "id": "de756ad2",
   "metadata": {},
   "outputs": [],
   "source": [
    "#计算t 0时刻频率 \n",
    "countsd0 = pd.DataFrame(counts0,columns=['counts0'])\n",
    "countsd0['freq0']=counts0/counts0_sum"
   ]
  },
  {
   "cell_type": "code",
   "execution_count": 123,
   "id": "657c0b32",
   "metadata": {},
   "outputs": [],
   "source": [
    "#计算t 10时刻频率 \n",
    "countsd10=pd.DataFrame(counts10,columns=['counts10'])\n",
    "countsd10['freq10']=counts10/counts10_sum"
   ]
  },
  {
   "cell_type": "code",
   "execution_count": 124,
   "id": "6e38988f",
   "metadata": {},
   "outputs": [],
   "source": [
    "#合并两个表格\n",
    "df_merge = countsd0.join(countsd10)"
   ]
  },
  {
   "cell_type": "code",
   "execution_count": 125,
   "id": "404dc2aa",
   "metadata": {},
   "outputs": [],
   "source": [
    "#计算变化率\n",
    "df_merge['log2f']=np.log2(df_merge['freq0']/df_merge['freq10'])"
   ]
  },
  {
   "cell_type": "code",
   "execution_count": 126,
   "id": "ea8f94ad",
   "metadata": {},
   "outputs": [],
   "source": [
    "df_merge.to_csv('result1.csv')"
   ]
  },
  {
   "cell_type": "code",
   "execution_count": null,
   "id": "d3fe749c",
   "metadata": {},
   "outputs": [],
   "source": []
  }
 ],
 "metadata": {
  "kernelspec": {
   "display_name": "Python 3 (ipykernel)",
   "language": "python",
   "name": "python3"
  },
  "language_info": {
   "codemirror_mode": {
    "name": "ipython",
    "version": 3
   },
   "file_extension": ".py",
   "mimetype": "text/x-python",
   "name": "python",
   "nbconvert_exporter": "python",
   "pygments_lexer": "ipython3",
   "version": "3.9.7"
  }
 },
 "nbformat": 4,
 "nbformat_minor": 5
}
